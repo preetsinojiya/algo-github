{
 "cells": [
  {
   "cell_type": "code",
   "execution_count": 27,
   "metadata": {},
   "outputs": [],
   "source": [
    "import pandas as pd\n",
    "import matplotlib\n",
    "import matplotlib.pyplot as pyplot\n",
    "import quandl\n",
    "import math\n",
    "import openpyxl\n",
    "%matplotlib inline"
   ]
  },
  {
   "cell_type": "code",
   "execution_count": 28,
   "metadata": {},
   "outputs": [],
   "source": [
    "def variance_calculator(series,series_average,win_len):\n",
    "    sma   = win_len\n",
    "    temp  = series.subtract(series_average)\n",
    "    temp2 = temp.apply(lambda x:x**2)\n",
    "    temp3 = temp2.rolling(sma-1).mean()\n",
    "    sigma = temp3.apply(lambda x:math.sqrt(x))\n",
    "    return sigma"
   ]
  },
  {
   "cell_type": "code",
   "execution_count": 29,
   "metadata": {},
   "outputs": [],
   "source": [
    "key = 'xioC_P2K4MEszs4RLyBM'\n",
    "start_date = '2014-12-12'\n",
    "data1 = quandl.get(\"CHRIS/CME_SP1\", authtoken = key, start_date = start_date)\n",
    "declining = quandl.get(\"URC/NYSE_DEC\", authtoken = key, start_date = start_date)\n",
    "advancing = quandl.get(\"URC/NYSE_ADV\", authtoken = key, start_date = start_date)\n",
    "adv_vol   = quandl.get(\"URC/NYSE_ADV_VOL\", authtoken = key, start_date = start_date)\n",
    "dec_vol   = quandl.get(\"URC/NYSE_DEC_VOL\", authtoken = key, start_date = start_date)"
   ]
  },
  {
   "cell_type": "code",
   "execution_count": 30,
   "metadata": {},
   "outputs": [],
   "source": [
    "data = declining\n",
    "data['declining'] = declining['Numbers of Stocks']\n",
    "data['advancing'] = advancing['Numbers of Stocks']\n",
    "data['dec_vol']   = dec_vol['Numbers of Stocks']\n",
    "data['adv_vol']   = adv_vol['Numbers of Stocks']\n",
    "merged = data.join(data1)\n",
    "merged = merged.fillna(method = 'ffill') # Fill your data wisely to get better results\n",
    "data = merged"
   ]
  },
  {
   "cell_type": "code",
   "execution_count": 35,
   "metadata": {},
   "outputs": [
    {
     "ename": "SyntaxError",
     "evalue": "invalid syntax (<ipython-input-35-099e525feeec>, line 1)",
     "output_type": "error",
     "traceback": [
      "\u001b[0;36m  File \u001b[0;32m\"<ipython-input-35-099e525feeec>\"\u001b[0;36m, line \u001b[0;32m1\u001b[0m\n\u001b[0;31m    global sma = 22        # moving average window length\u001b[0m\n\u001b[0m               ^\u001b[0m\n\u001b[0;31mSyntaxError\u001b[0m\u001b[0;31m:\u001b[0m invalid syntax\n"
     ]
    }
   ],
   "source": [
    "global sma = 22        # moving average window length\n",
    "global k = 1.5         # k*sigma from moving average(bollinger bands)\n",
    "global l = 2           # l*sigma from moving average(bollinger bands)"
   ]
  },
  {
   "cell_type": "code",
   "execution_count": 36,
   "metadata": {},
   "outputs": [],
   "source": [
    "def generate_trade_xls(data):\n",
    "    \n",
    "    pro = 0\n",
    "    flag = 1\n",
    "    buy_flag = False\n",
    "    sell_flag = False\n",
    "    transaction_start_price = 0\n",
    "    abs_SL = 25 # absolute stoploss variable\n",
    "    mtm  = list()\n",
    "    order_details = list()\n",
    "    order = list()\n",
    "    profit = list()\n",
    "    buy_sell = list()\n",
    "    stoploss = list()\n",
    "    trade_cause = list()\n",
    "    \n",
    "    tem1 = data['advancing'].divide(data['declining'])\n",
    "    tem2 = data['adv_vol'].divide(data['dec_vol'])\n",
    "    tem = tem1.divide(tem2)\n",
    "    data['TRIN'] = tem\n",
    "    data['TRIN'] = data['TRIN'].apply(lambda x:math.log(x))\n",
    "    data['future'] = data['Last']\n",
    "    data.to_csv('tempr_data.csv')\n",
    "    data = pd.read_csv('tempr_data.csv')\n",
    "    \n",
    "    data['mAvg'] = data['TRIN'].rolling(sma).mean()\n",
    "    data['TRIN_prev'] = data[\"TRIN\"].shift(1)\n",
    "    data.to_csv('tempr_data.csv')\n",
    "    data = pd.read_csv('tempr_data.csv')\n",
    "    \n",
    "    sigma = variance_calculator(data['TRIN'],data['mAvg'],sma)\n",
    "    k_sigma = k * sigma\n",
    "    l_sigma = l * sigma\n",
    "\n",
    "    data['UBB'] = data['mAvg'].add(k_sigma)\n",
    "    data['LBB'] = data['mAvg'].subtract(k_sigma)\n",
    "    data['USL'] = data['UBB'].add(l_sigma)\n",
    "    data['LSL'] = data['LBB'].subtract(l_sigma)\n",
    "    \n",
    "    data['order'] = pd.Series()\n",
    "    s = data['TRIN'].size\n",
    "    \n",
    "    for i in range(s):\n",
    "        pro = 0\n",
    "        future_cost = data['future'][i]\n",
    "        trin = data['TRIN'][i]\n",
    "        trin_prev = data['TRIN_prev'][i]\n",
    "        lbb = data['LBB'][i]\n",
    "        ubb = data['UBB'][i]\n",
    "        mAvg = data['mAvg'][i]\n",
    "        usl = data['USL'][i]\n",
    "        lsl = data['LSL'][i]\n",
    "\n",
    "        UBB_cross = (trin > ubb) and (trin_prev < ubb)\n",
    "        LBB_cross = (trin < lbb) and (trin_prev < lbb)\n",
    "        mAvg_cross_up = (trin > mAvg) and (trin_prev < mAvg)\n",
    "        mAvg_cross_down = (trin < mAvg) and (trin_prev > mAvg)\n",
    "        USL_cross = (trin > usl) and (trin_prev < usl)\n",
    "        LSL_cross = (trin < lsl) and (trin_prev < lsl)\n",
    "\n",
    "        if(UBB_cross and (not buy_flag) and flag == 1):\n",
    "            flag = 0\n",
    "            buy_flag = True\n",
    "            sell_flag = False\n",
    "            transaction_start_price = future_cost\n",
    "            order_details = [1,\"Buy\",\"UBB crossed\",\"0\",\"position token\"]\n",
    "\n",
    "        elif(LBB_cross and (not sell_flag) and flag == 1):\n",
    "            flag = 0\n",
    "            buy_flag = False\n",
    "            sell_flag = True\n",
    "            transaction_start_price = future_cost\n",
    "            order_details = [-1,\"Sell\",\"LBB crossed\",\"0\",\"position token\"]\n",
    "\n",
    "        # TO CLOSE SELL POSITIONS\n",
    "        elif(mAvg_cross_up and flag==0 and (not buy_flag)):\n",
    "            flag = 1\n",
    "            buy_flag = False\n",
    "            sell_flag = False\n",
    "            pro = future_cost - transaction_start_price\n",
    "            order_details = [1,\"Buy\",\"mAvg crossed\",\"0\",\"position close\"]\n",
    "\n",
    "        elif(LSL_cross and flag==0 and (not buy_flag)):\n",
    "            flag = 1\n",
    "            buy_flag = False\n",
    "            sell_flag = False\n",
    "            pro = future_cost - transaction_start_price\n",
    "            order_details = [1,\"Buy\",\"LSL crossed\",\"stoploss executed\",\"position closed\"]\n",
    "\n",
    "        elif((future_cost - transaction_start_price) > abs_SL and flag==0 and (not buy_flag)):\n",
    "            flag = 1\n",
    "            buy_flag = False\n",
    "            sell_flag = False\n",
    "            pro = future_cost - transaction_start_price\n",
    "            order_details = [1,\"Buy\",\"LSB crossed\",\"stoploss executed\",\"position closed\"]\n",
    "\n",
    "        # TO CLOSE BUY POSITIONS \n",
    "        elif(mAvg_cross_down and flag==0 and (not sell_flag)):\n",
    "            flag = 1\n",
    "            buy_flag = False\n",
    "            sell_flag = False\n",
    "            pro = -(future_cost - transaction_start_price)\n",
    "            order_details = [-1,\"Sell\",\"mAvg crossed\",\"0\",\"position close\"]\n",
    "\n",
    "        elif(USL_cross and flag==0 and (not sell_flag)):\n",
    "            flag = 1\n",
    "            buy_flag = False\n",
    "            sell_flag = False\n",
    "            pro = -(future_cost - transaction_start_price)\n",
    "            order_details = [-1,\"Sell\",\"USB crossed\",\"stoploss executed\",\"position closed\"]\n",
    "\n",
    "        elif((-future_cost + transaction_start_price) > abs_SL and flag==0 and (not sell_flag)):\n",
    "            flag = 1\n",
    "            buy_flag = False\n",
    "            sell_flag = False\n",
    "            pro = -(future_cost - transaction_start_price)\n",
    "            order_details = [-1,\"Sell\",\"LSB crossed\",\"stoploss executed_abs\",\"position closed\"]\n",
    "\n",
    "        else:\n",
    "            if(buy_flag==0 and sell_flag==0): tempo = \"0\"\n",
    "            else:\n",
    "                if(buy_flag == 1 and sell_flag == 0): tempo = (data['future'][i] - transaction_start_price) * 500\n",
    "                if(buy_flag == 0 and sell_flag == 1): tempo = (-data['future'][i] + transaction_start_price) * 500\n",
    "\n",
    "            order_details = [0,\"No trade\",\"no trade\",\"0\",tempo]\n",
    "\n",
    "        profit.append(pro)\n",
    "        order.append(order_details[0])\n",
    "        buy_sell.append(order_details[1])\n",
    "        trade_cause.append(order_details[2])\n",
    "        stoploss.append(order_details[3])\n",
    "        mtm.append(order_details[4])\n",
    "\n",
    "    data['placed_order'] = pd.Series(order)\n",
    "    data['cost'] = -(data['placed_order'].multiply(data['future'])) * 500\n",
    "    data['out']  = data['cost'].cumsum()\n",
    "    data['buy_sell'] = pd.Series(buy_sell)\n",
    "    data['profit'] = -pd.Series(profit) * 500\n",
    "    data['stoploss'] = pd.Series(stoploss)\n",
    "    data['trade_cause'] = pd.Series(trade_cause)\n",
    "    data['mtm'] = pd.Series(mtm)\n",
    "    \n",
    "    output = pd.DataFrame()\n",
    "    output['date'] = data['Date']\n",
    "    output['close'] = data['future']\n",
    "    output['TRIN'] = data['TRIN']\n",
    "    output['placed_order'] = data['placed_order']\n",
    "    output['buy_sell'] = data['buy_sell']\n",
    "    output['trade_cause'] = data['trade_cause']\n",
    "    output['PnL'] = data['profit']\n",
    "    output['mtm'] = data['mtm']\n",
    "    output['stoploss'] = data['stoploss']\n",
    "    output['Cash Account'] = data['out']\n",
    "    output.to_excel('TRIN_SL_output.xlsx', sheet_name='Sheet1')\n",
    "    \n",
    "    pyplot.plot(data['TRIN'])\n",
    "    pyplot.plot(data['mAvg'])\n",
    "    pyplot.plot(data['UBB'])\n",
    "    pyplot.plot(data['LBB'])\n",
    "    pyplot.show()\n",
    "    \n",
    "    return output"
   ]
  },
  {
   "cell_type": "code",
   "execution_count": 37,
   "metadata": {},
   "outputs": [
    {
     "data": {
      "image/png": "[encoded data removed]",
      "text/plain": [
       "<Figure size 432x288 with 1 Axes>"
      ]
     },
     "metadata": {
      "needs_background": "light"
     },
     "output_type": "display_data"
    }
   ],
   "source": [
    "output = generate_trade_xls(data)"
   ]
  },
  {
   "cell_type": "code",
   "execution_count": 38,
   "metadata": {},
   "outputs": [
    {
     "name": "stdout",
     "output_type": "stream",
     "text": [
      "NET PROFIT :: 18099.999999999676\n"
     ]
    }
   ],
   "source": [
    "print(\"NET PROFIT :: \" + str(output['PnL'].sum()))"
   ]
  },
  {
   "cell_type": "code",
   "execution_count": null,
   "metadata": {},
   "outputs": [],
   "source": []
  }
 ],
 "metadata": {
  "kernelspec": {
   "display_name": "Python 3",
   "language": "python",
   "name": "python3"
  },
  "language_info": {
   "codemirror_mode": {
    "name": "ipython",
    "version": 3
   },
   "file_extension": ".py",
   "mimetype": "text/x-python",
   "name": "python",
   "nbconvert_exporter": "python",
   "pygments_lexer": "ipython3",
   "version": "3.5.2"
  }
 },
 "nbformat": 4,
 "nbformat_minor": 2
}
